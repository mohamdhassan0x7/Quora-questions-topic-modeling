{
 "cells": [
  {
   "cell_type": "markdown",
   "id": "6624e7f6",
   "metadata": {},
   "source": [
    "# Topic Modeling Assessment Project\n",
    "\n",
    "For this project we will be working with a dataset of over 400,000 quora questions that have no labeled cateogry, and attempting to find 20 cateogries to assign these questions to. The .csv file of these text questions."
   ]
  },
  {
   "cell_type": "code",
   "execution_count": 1,
   "id": "f4e9f244",
   "metadata": {},
   "outputs": [],
   "source": [
    "import pandas as pd \n",
    "import numpy as np"
   ]
  },
  {
   "cell_type": "markdown",
   "id": "a3d58c0f",
   "metadata": {},
   "source": [
    "### 1. Data Preparation\n",
    "- **Description**: Load and preprocess the dataset.\n",
    "- **Tasks**:\n",
    "  - Load the dataset into memory.\n",
    "  - Perform any necessary preprocessing steps, such as removing stopwords, punctuation, and stemming/lemmatization."
   ]
  },
  {
   "cell_type": "code",
   "execution_count": 2,
   "id": "f60a8b43",
   "metadata": {},
   "outputs": [
    {
     "data": {
      "text/html": [
       "<div>\n",
       "<style scoped>\n",
       "    .dataframe tbody tr th:only-of-type {\n",
       "        vertical-align: middle;\n",
       "    }\n",
       "\n",
       "    .dataframe tbody tr th {\n",
       "        vertical-align: top;\n",
       "    }\n",
       "\n",
       "    .dataframe thead th {\n",
       "        text-align: right;\n",
       "    }\n",
       "</style>\n",
       "<table border=\"1\" class=\"dataframe\">\n",
       "  <thead>\n",
       "    <tr style=\"text-align: right;\">\n",
       "      <th></th>\n",
       "      <th>Question</th>\n",
       "    </tr>\n",
       "  </thead>\n",
       "  <tbody>\n",
       "    <tr>\n",
       "      <th>0</th>\n",
       "      <td>What is the step by step guide to invest in sh...</td>\n",
       "    </tr>\n",
       "    <tr>\n",
       "      <th>1</th>\n",
       "      <td>What is the story of Kohinoor (Koh-i-Noor) Dia...</td>\n",
       "    </tr>\n",
       "    <tr>\n",
       "      <th>2</th>\n",
       "      <td>How can I increase the speed of my internet co...</td>\n",
       "    </tr>\n",
       "    <tr>\n",
       "      <th>3</th>\n",
       "      <td>Why am I mentally very lonely? How can I solve...</td>\n",
       "    </tr>\n",
       "    <tr>\n",
       "      <th>4</th>\n",
       "      <td>Which one dissolve in water quikly sugar, salt...</td>\n",
       "    </tr>\n",
       "  </tbody>\n",
       "</table>\n",
       "</div>"
      ],
      "text/plain": [
       "                                            Question\n",
       "0  What is the step by step guide to invest in sh...\n",
       "1  What is the story of Kohinoor (Koh-i-Noor) Dia...\n",
       "2  How can I increase the speed of my internet co...\n",
       "3  Why am I mentally very lonely? How can I solve...\n",
       "4  Which one dissolve in water quikly sugar, salt..."
      ]
     },
     "execution_count": 2,
     "metadata": {},
     "output_type": "execute_result"
    }
   ],
   "source": [
    "quora = pd.read_csv('quora_questions.csv')\n",
    "quora.head()"
   ]
  },
  {
   "cell_type": "code",
   "execution_count": 3,
   "id": "8435508c",
   "metadata": {},
   "outputs": [
    {
     "data": {
      "text/plain": [
       "Question    0\n",
       "dtype: int64"
      ]
     },
     "execution_count": 3,
     "metadata": {},
     "output_type": "execute_result"
    }
   ],
   "source": [
    "quora.isnull().sum()"
   ]
  },
  {
   "cell_type": "markdown",
   "id": "15a74319",
   "metadata": {},
   "source": [
    "### 2. TF-IDF Vectorization\n",
    "- **Description**: Convert the text documents into numerical vectors using TF-IDF.\n",
    "- **Tasks**:\n",
    "  - Implement TF-IDF vectorization on the preprocessed text data."
   ]
  },
  {
   "cell_type": "code",
   "execution_count": 19,
   "id": "1f3aaabf",
   "metadata": {},
   "outputs": [],
   "source": [
    "from sklearn.feature_extraction.text import TfidfVectorizer"
   ]
  },
  {
   "cell_type": "code",
   "execution_count": 5,
   "id": "f57e6fcc",
   "metadata": {},
   "outputs": [],
   "source": [
    "TFIDF = TfidfVectorizer(max_df=0.95, min_df= 2, stop_words='english') "
   ]
  },
  {
   "cell_type": "code",
   "execution_count": 6,
   "id": "288efa99",
   "metadata": {},
   "outputs": [],
   "source": [
    "# A >> TFIDF matrix of the given dataset\n",
    "A = TFIDF.fit_transform(quora['Question'])"
   ]
  },
  {
   "cell_type": "markdown",
   "id": "56911c11",
   "metadata": {},
   "source": [
    "### 3. Topic Modeling with NNMF\n",
    "- **Description**: Apply Non-Negative Matrix Factorization to the TF-IDF matrix for topic extraction.\n",
    "- **Tasks**:\n",
    "  - Implement NNMF on the TF-IDF matrix.\n",
    "  - Extract topics and analyze their relevance."
   ]
  },
  {
   "cell_type": "code",
   "execution_count": 7,
   "id": "739f97af",
   "metadata": {},
   "outputs": [],
   "source": [
    "from sklearn.decomposition import NMF"
   ]
  },
  {
   "cell_type": "code",
   "execution_count": 8,
   "id": "5f1ae6bf",
   "metadata": {},
   "outputs": [],
   "source": [
    "nmf_model = NMF(n_components=20, random_state=42)"
   ]
  },
  {
   "cell_type": "code",
   "execution_count": 9,
   "id": "512f802d",
   "metadata": {},
   "outputs": [
    {
     "data": {
      "text/plain": [
       "NMF(alpha=0.0, beta_loss='frobenius', init=None, l1_ratio=0.0, max_iter=200,\n",
       "  n_components=20, random_state=42, shuffle=False, solver='cd', tol=0.0001,\n",
       "  verbose=0)"
      ]
     },
     "execution_count": 9,
     "metadata": {},
     "output_type": "execute_result"
    }
   ],
   "source": [
    "nmf_model.fit(A)"
   ]
  },
  {
   "cell_type": "markdown",
   "id": "0abf9d40",
   "metadata": {},
   "source": [
    "#### Now we have the result of the Topic-Word relation and Topic-document relation"
   ]
  },
  {
   "cell_type": "markdown",
   "id": "10b5e773",
   "metadata": {},
   "source": [
    "### 4. Evaluate Topic - Word relation result:\n",
    "    - Print our the top 15 most common words for each of the 20 topics."
   ]
  },
  {
   "cell_type": "code",
   "execution_count": 10,
   "id": "a3be5378",
   "metadata": {},
   "outputs": [
    {
     "data": {
      "text/plain": [
       "20"
      ]
     },
     "execution_count": 10,
     "metadata": {},
     "output_type": "execute_result"
    }
   ],
   "source": [
    "len(nmf_model.components_)"
   ]
  },
  {
   "cell_type": "markdown",
   "id": "7f6eb608",
   "metadata": {},
   "source": [
    "No. unique words in all Quora questions "
   ]
  },
  {
   "cell_type": "code",
   "execution_count": 11,
   "id": "14f39089",
   "metadata": {},
   "outputs": [
    {
     "data": {
      "text/plain": [
       "38669"
      ]
     },
     "execution_count": 11,
     "metadata": {},
     "output_type": "execute_result"
    }
   ],
   "source": [
    "len(TFIDF.get_feature_names())"
   ]
  },
  {
   "cell_type": "code",
   "execution_count": 12,
   "id": "0c71991a",
   "metadata": {},
   "outputs": [
    {
     "name": "stdout",
     "output_type": "stream",
     "text": [
      "Top 15 words in topic #0\n",
      "['thing', 'read', 'place', 'visit', 'places', 'phone', 'buy', 'laptop', 'movie', 'ways', '2016', 'books', 'book', 'movies', 'best']\n",
      "______________________________________________________________\n",
      "Top 15 words in topic #1\n",
      "['majors', 'recruit', 'sex', 'looking', 'differ', 'use', 'exist', 'really', 'compare', 'cost', 'long', 'feel', 'work', 'mean', 'does']\n",
      "______________________________________________________________\n",
      "Top 15 words in topic #2\n",
      "['add', 'answered', 'needing', 'post', 'easily', 'improvement', 'delete', 'asked', 'google', 'answers', 'answer', 'ask', 'question', 'questions', 'quora']\n",
      "______________________________________________________________\n",
      "Top 15 words in topic #3\n",
      "['using', 'website', 'investment', 'friends', 'black', 'internet', 'free', 'home', 'easy', 'youtube', 'ways', 'earn', 'online', 'make', 'money']\n",
      "______________________________________________________________\n",
      "Top 15 words in topic #4\n",
      "['balance', 'earth', 'day', 'death', 'changed', 'live', 'want', 'change', 'moment', 'real', 'important', 'thing', 'meaning', 'purpose', 'life']\n",
      "______________________________________________________________\n",
      "Top 15 words in topic #5\n",
      "['reservation', 'engineering', 'minister', 'president', 'company', 'china', 'business', 'country', 'olympics', 'available', 'job', 'spotify', 'war', 'pakistan', 'india']\n",
      "______________________________________________________________\n",
      "Top 15 words in topic #6\n",
      "['beginners', 'online', 'english', 'book', 'did', 'hacking', 'want', 'python', 'languages', 'java', 'learning', 'start', 'language', 'programming', 'learn']\n",
      "______________________________________________________________\n",
      "Top 15 words in topic #7\n",
      "['happen', 'presidency', 'think', 'presidential', '2016', 'vote', 'better', 'election', 'did', 'win', 'hillary', 'president', 'clinton', 'donald', 'trump']\n",
      "______________________________________________________________\n",
      "Top 15 words in topic #8\n",
      "['russia', 'business', 'win', 'coming', 'countries', 'place', 'pakistan', 'happen', 'end', 'country', 'iii', 'start', 'did', 'war', 'world']\n",
      "______________________________________________________________\n",
      "Top 15 words in topic #9\n",
      "['indian', 'companies', 'don', 'guy', 'men', 'culture', 'women', 'work', 'girls', 'live', 'girl', 'look', 'sex', 'feel', 'like']\n",
      "______________________________________________________________\n",
      "Top 15 words in topic #10\n",
      "['ca', 'departments', 'positions', 'movies', 'songs', 'business', 'read', 'start', 'job', 'work', 'engineering', 'ways', 'bad', 'books', 'good']\n",
      "______________________________________________________________\n",
      "Top 15 words in topic #11\n",
      "['money', 'modi', 'currency', 'economy', 'think', 'government', 'ban', 'banning', 'black', 'indian', 'rupee', 'rs', '1000', 'notes', '500']\n",
      "______________________________________________________________\n",
      "Top 15 words in topic #12\n",
      "['blowing', 'resolutions', 'resolution', 'mind', 'likes', 'girl', '2017', 'year', 'don', 'employees', 'going', 'day', 'things', 'new', 'know']\n",
      "______________________________________________________________\n",
      "Top 15 words in topic #13\n",
      "['aspects', 'fluent', 'skill', 'spoken', 'ways', 'language', 'fluently', 'speak', 'communication', 'pronunciation', 'speaking', 'writing', 'skills', 'improve', 'english']\n",
      "______________________________________________________________\n",
      "Top 15 words in topic #14\n",
      "['diet', 'help', 'healthy', 'exercise', 'month', 'pounds', 'reduce', 'quickly', 'loss', 'fast', 'fat', 'ways', 'gain', 'lose', 'weight']\n",
      "______________________________________________________________\n",
      "Top 15 words in topic #15\n",
      "['having', 'feel', 'long', 'spend', 'did', 'person', 'machine', 'movies', 'favorite', 'job', 'home', 'sex', 'possible', 'travel', 'time']\n",
      "______________________________________________________________\n",
      "Top 15 words in topic #16\n",
      "['marriage', 'make', 'did', 'girlfriend', 'feel', 'tell', 'forget', 'really', 'friend', 'true', 'know', 'person', 'girl', 'fall', 'love']\n",
      "______________________________________________________________\n",
      "Top 15 words in topic #17\n",
      "['easy', 'hack', 'prepare', 'quickest', 'facebook', 'increase', 'painless', 'instagram', 'account', 'best', 'commit', 'fastest', 'suicide', 'easiest', 'way']\n",
      "______________________________________________________________\n",
      "Top 15 words in topic #18\n",
      "['web', 'java', 'scripting', 'phone', 'mechanical', 'better', 'job', 'use', 'account', 'data', 'software', 'science', 'computer', 'engineering', 'difference']\n",
      "______________________________________________________________\n",
      "Top 15 words in topic #19\n",
      "['earth', 'blowing', 'stop', 'use', 'easily', 'mind', 'google', 'flat', 'questions', 'hate', 'believe', 'ask', 'don', 'think', 'people']\n",
      "______________________________________________________________\n"
     ]
    }
   ],
   "source": [
    "for index, topic in enumerate(nmf_model.components_):\n",
    "    print(f\"Top 15 words in topic #{index}\")\n",
    "    print([TFIDF.get_feature_names()[i] for i in topic.argsort()[-15:]])\n",
    "    print(\"______________________________________________________________\")"
   ]
  },
  {
   "cell_type": "markdown",
   "id": "ffd5d194",
   "metadata": {},
   "source": [
    "### 5. Evaluate Topic - document relation result:\n",
    "- **Description**: Find the most appropriate topic for each document (Question).\n",
    "- **Tasks**:\n",
    "  - Transform the TDIDF result using the NMF model to get the probability of each topic to be the appropriate for each document\n",
    "  - Get the best topic for each model by choose the topic with highest prob.\n"
   ]
  },
  {
   "cell_type": "code",
   "execution_count": 13,
   "id": "5b6f4095",
   "metadata": {},
   "outputs": [],
   "source": [
    "topics_probability = nmf_model.transform(A)"
   ]
  },
  {
   "cell_type": "code",
   "execution_count": 14,
   "id": "628b7b07",
   "metadata": {},
   "outputs": [
    {
     "data": {
      "text/plain": [
       "array([[2.75937605e-04, 5.91249293e-05, 6.17687040e-06, ...,\n",
       "        6.97269969e-04, 2.13527728e-04, 0.00000000e+00],\n",
       "       [1.96418670e-04, 8.85438224e-05, 0.00000000e+00, ...,\n",
       "        0.00000000e+00, 5.51088847e-05, 1.05527238e-05],\n",
       "       [1.78019854e-04, 6.47373072e-04, 1.60510763e-03, ...,\n",
       "        3.02354836e-03, 1.05908512e-03, 1.23878889e-03],\n",
       "       ...,\n",
       "       [0.00000000e+00, 1.62431955e-05, 5.23720795e-06, ...,\n",
       "        0.00000000e+00, 2.76279348e-06, 0.00000000e+00],\n",
       "       [5.36236094e-04, 1.01567857e-03, 0.00000000e+00, ...,\n",
       "        1.28720137e-04, 7.76975481e-04, 0.00000000e+00],\n",
       "       [0.00000000e+00, 0.00000000e+00, 0.00000000e+00, ...,\n",
       "        0.00000000e+00, 0.00000000e+00, 1.25187210e-04]])"
      ]
     },
     "execution_count": 14,
     "metadata": {},
     "output_type": "execute_result"
    }
   ],
   "source": [
    "topics_probability"
   ]
  },
  {
   "cell_type": "code",
   "execution_count": 15,
   "id": "02ff6230",
   "metadata": {},
   "outputs": [
    {
     "data": {
      "text/plain": [
       "array([0.0003, 0.0001, 0.    , 0.0005, 0.    , 0.0262, 0.0004, 0.    ,\n",
       "       0.    , 0.    , 0.0002, 0.0012, 0.    , 0.    , 0.    , 0.0004,\n",
       "       0.    , 0.0007, 0.0002, 0.    ])"
      ]
     },
     "execution_count": 15,
     "metadata": {},
     "output_type": "execute_result"
    }
   ],
   "source": [
    "topics_probability[0].round(4)"
   ]
  },
  {
   "cell_type": "code",
   "execution_count": 16,
   "id": "30bf9410",
   "metadata": {},
   "outputs": [],
   "source": [
    "topic_res = topics_probability.argmax(axis = 1)"
   ]
  },
  {
   "cell_type": "code",
   "execution_count": 17,
   "id": "a16dfe3f",
   "metadata": {},
   "outputs": [],
   "source": [
    "quora['Topic'] = topic_res"
   ]
  },
  {
   "cell_type": "code",
   "execution_count": 18,
   "id": "1627cda0",
   "metadata": {},
   "outputs": [
    {
     "data": {
      "text/html": [
       "<div>\n",
       "<style scoped>\n",
       "    .dataframe tbody tr th:only-of-type {\n",
       "        vertical-align: middle;\n",
       "    }\n",
       "\n",
       "    .dataframe tbody tr th {\n",
       "        vertical-align: top;\n",
       "    }\n",
       "\n",
       "    .dataframe thead th {\n",
       "        text-align: right;\n",
       "    }\n",
       "</style>\n",
       "<table border=\"1\" class=\"dataframe\">\n",
       "  <thead>\n",
       "    <tr style=\"text-align: right;\">\n",
       "      <th></th>\n",
       "      <th>Question</th>\n",
       "      <th>Topic</th>\n",
       "    </tr>\n",
       "  </thead>\n",
       "  <tbody>\n",
       "    <tr>\n",
       "      <th>0</th>\n",
       "      <td>What is the step by step guide to invest in sh...</td>\n",
       "      <td>5</td>\n",
       "    </tr>\n",
       "    <tr>\n",
       "      <th>1</th>\n",
       "      <td>What is the story of Kohinoor (Koh-i-Noor) Dia...</td>\n",
       "      <td>16</td>\n",
       "    </tr>\n",
       "    <tr>\n",
       "      <th>2</th>\n",
       "      <td>How can I increase the speed of my internet co...</td>\n",
       "      <td>17</td>\n",
       "    </tr>\n",
       "    <tr>\n",
       "      <th>3</th>\n",
       "      <td>Why am I mentally very lonely? How can I solve...</td>\n",
       "      <td>11</td>\n",
       "    </tr>\n",
       "    <tr>\n",
       "      <th>4</th>\n",
       "      <td>Which one dissolve in water quikly sugar, salt...</td>\n",
       "      <td>14</td>\n",
       "    </tr>\n",
       "  </tbody>\n",
       "</table>\n",
       "</div>"
      ],
      "text/plain": [
       "                                            Question  Topic\n",
       "0  What is the step by step guide to invest in sh...      5\n",
       "1  What is the story of Kohinoor (Koh-i-Noor) Dia...     16\n",
       "2  How can I increase the speed of my internet co...     17\n",
       "3  Why am I mentally very lonely? How can I solve...     11\n",
       "4  Which one dissolve in water quikly sugar, salt...     14"
      ]
     },
     "execution_count": 18,
     "metadata": {},
     "output_type": "execute_result"
    }
   ],
   "source": [
    "quora.head()"
   ]
  },
  {
   "cell_type": "markdown",
   "id": "a74cbd3e",
   "metadata": {},
   "source": [
    "#### Now we can map each topic number to specific topic name based on words related to each topic number "
   ]
  }
 ],
 "metadata": {
  "kernelspec": {
   "display_name": "Python 3 (ipykernel)",
   "language": "python",
   "name": "python3"
  },
  "language_info": {
   "codemirror_mode": {
    "name": "ipython",
    "version": 3
   },
   "file_extension": ".py",
   "mimetype": "text/x-python",
   "name": "python",
   "nbconvert_exporter": "python",
   "pygments_lexer": "ipython3",
   "version": "3.7.16"
  }
 },
 "nbformat": 4,
 "nbformat_minor": 5
}
